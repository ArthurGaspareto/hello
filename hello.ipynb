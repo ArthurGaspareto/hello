{
 "cells": [
  {
   "cell_type": "code",
   "execution_count": 51,
   "id": "1ddce5cd-3828-4b91-aba4-2f0f0f86a35b",
   "metadata": {},
   "outputs": [
    {
     "data": {
      "text/plain": [
       "'\\nPrograma: Hello\\nDescrição: Imprima na tela a frase \"Hello, World!\"\\nAutor: Arthur Gaspareto\\nData: 25/02/25\\nVersão: 0.0.3\\nNesta versão haverá alocação de memória em uma variavel para frase a ser impressa na tela.\\nNovidades da Versão\\n\\n25/02/2025\\nNesta versão:\\n1. Nesta versão o usuário poderar entrar com seu nome para ser cumprimentado pelo programa.\\n'"
      ]
     },
     "execution_count": 51,
     "metadata": {},
     "output_type": "execute_result"
    }
   ],
   "source": [
    "'''\n",
    "Programa: Hello\n",
    "Descrição: Imprima na tela a frase \"Hello, World!\"\n",
    "Autor: Arthur Gaspareto\n",
    "Data: 25/02/25\n",
    "Versão: 0.0.3\n",
    "Nesta versão haverá alocação de memória em uma variavel para frase a ser impressa na tela.\n",
    "Novidades da Versão\n",
    "\n",
    "25/02/2025\n",
    "Nesta versão:\n",
    "1. Nesta versão o usuário poderar entrar com seu nome para ser cumprimentado pelo programa.\n",
    "'''"
   ]
  },
  {
   "cell_type": "code",
   "execution_count": 65,
   "id": "e99706c9-022d-4d78-9033-d7c72e7b9c75",
   "metadata": {},
   "outputs": [],
   "source": [
    "#Alocação de Memória\n",
    "nome_usuario = ''\n",
    "frase = \"Hello,\""
   ]
  },
  {
   "cell_type": "code",
   "execution_count": 71,
   "id": "8cc55708-b071-4cc0-bf26-51e91b08c00a",
   "metadata": {},
   "outputs": [
    {
     "name": "stdin",
     "output_type": "stream",
     "text": [
      "Qual o seu nome? Arthur\n"
     ]
    }
   ],
   "source": [
    "#Entrada de Dados\n",
    "\n",
    "nome_usuario = input('Qual o seu nome?')"
   ]
  },
  {
   "cell_type": "code",
   "execution_count": 35,
   "id": "a8cdac58-6c00-473d-8450-798d07ecf97a",
   "metadata": {},
   "outputs": [],
   "source": [
    "#Processamento de Dados"
   ]
  },
  {
   "cell_type": "code",
   "execution_count": 73,
   "id": "dbc93008-9ed0-4ce4-b297-8301e47a510d",
   "metadata": {},
   "outputs": [
    {
     "name": "stdout",
     "output_type": "stream",
     "text": [
      "Hello, Arthur!\n"
     ]
    }
   ],
   "source": [
    "#Saída de Dados\n",
    "\n",
    "print(f'{frase} {nome_usuario}!')"
   ]
  },
  {
   "cell_type": "code",
   "execution_count": null,
   "id": "9a831949-4f3d-4a4b-815d-f744619bfde6",
   "metadata": {},
   "outputs": [],
   "source": []
  }
 ],
 "metadata": {
  "kernelspec": {
   "display_name": "Python 3 (ipykernel)",
   "language": "python",
   "name": "python3"
  },
  "language_info": {
   "codemirror_mode": {
    "name": "ipython",
    "version": 3
   },
   "file_extension": ".py",
   "mimetype": "text/x-python",
   "name": "python",
   "nbconvert_exporter": "python",
   "pygments_lexer": "ipython3",
   "version": "3.12.7"
  }
 },
 "nbformat": 4,
 "nbformat_minor": 5
}
